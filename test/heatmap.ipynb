{
 "cells": [
  {
   "cell_type": "code",
   "execution_count": 15,
   "metadata": {},
   "outputs": [],
   "source": [
    "import numpy as np\n",
    "import matplotlib.pyplot as plt\n",
    "import os"
   ]
  },
  {
   "cell_type": "code",
   "execution_count": 16,
   "metadata": {},
   "outputs": [],
   "source": [
    "def load_data(filename):\n",
    "    data = []\n",
    "    with open(filename, 'r') as file:\n",
    "        for line in file:\n",
    "            # 解析每一行并转换为浮点数\n",
    "            values = list(map(float, line.split()))\n",
    "            data.append(values)\n",
    "    return np.array(data)"
   ]
  },
  {
   "cell_type": "code",
   "execution_count": 17,
   "metadata": {},
   "outputs": [],
   "source": [
    "def filter_data(data,filter_data_value):\n",
    "    # 筛选出第一个值为指定 in_dir_resolution 的行\n",
    "    filtered_data = data[data[:, 0] == filter_data_value]\n",
    "    res = filtered_data[:, 1:]\n",
    "    res[:,0] = res[:,0] - filter_data_value\n",
    "    return res\n",
    "def create_heatmap(data):\n",
    "    # 获取 out_pos_resolution 和 out_dir_resolution 作为坐标\n",
    "    out_pos_resolution = np.unique(data[:, 0])\n",
    "    out_dir_resolution = np.unique(data[:, 1])\n",
    "\n",
    "    # 构建二维网格，存放 value\n",
    "    heatmap = np.zeros((len(out_pos_resolution), len(out_dir_resolution)))\n",
    "\n",
    "    for row in data:\n",
    "        pos_idx = np.where(out_pos_resolution == row[0])[0][0]\n",
    "        dir_idx = np.where(out_dir_resolution == row[1])[0][0]\n",
    "        heatmap[pos_idx, dir_idx] = row[2]\n",
    "    # heatmap[heatmap == np.max(heatmap)] = 0\n",
    "    # heatmap = np.log(heatmap+1)\n",
    "    # heatmap = np.sqrt(heatmap)\n",
    "    # heat_sum = np.sum(heatmap)\n",
    "    # heatmap = heatmap/heat_sum\n",
    "\n",
    "    return heatmap, out_pos_resolution, out_dir_resolution\n",
    "\n",
    "def plot_heatmap(heatmap, out_pos_resolution, out_dir_resolution):\n",
    "    # 将弧度转换为角度\n",
    "    out_pos_resolution_deg = np.degrees(out_pos_resolution)\n",
    "    out_dir_resolution_deg = np.degrees(out_dir_resolution)\n",
    "    plt.figure(figsize=(5, 4), dpi=150) \n",
    "    plt.imshow(heatmap, extent=[out_dir_resolution_deg.min(), out_dir_resolution_deg.max(),\n",
    "                                out_pos_resolution_deg.min(), out_pos_resolution_deg.max()],\n",
    "               origin='lower', aspect='auto', cmap='hot')\n",
    "    \n",
    "    plt.colorbar(label='Value')\n",
    "    plt.xlabel('Out Dir Resolution (degrees)')\n",
    "    plt.ylabel('Out Pos Resolution (degrees)')  \n",
    "    plt.title('Sqrt of Heatmap Value')"
   ]
  },
  {
   "cell_type": "code",
   "execution_count": 31,
   "metadata": {},
   "outputs": [],
   "source": [
    "in_dir_data = np.unique(data[:,0])"
   ]
  },
  {
   "cell_type": "code",
   "execution_count": 33,
   "metadata": {},
   "outputs": [
    {
     "data": {
      "text/plain": [
       "array([0.00958703, 0.230827  , 0.464486  , 0.703159  , 0.719294  ,\n",
       "       0.724217  , 0.760991  , 0.838518  , 0.9353    , 0.990239  ,\n",
       "       1.06476   , 1.14084   , 1.38835   , 1.60803   , 1.90069   ,\n",
       "       1.97093   , 1.97126   , 2.18668   , 2.28443   , 2.40246   ,\n",
       "       2.43915   , 2.56005   , 2.90477   , 3.2246    , 3.472     ,\n",
       "       3.67878   , 3.79223   , 3.8437    , 3.85222   , 3.93393   ,\n",
       "       4.24705   , 4.26525   , 4.31143   , 4.33359   , 4.56097   ,\n",
       "       4.56425   , 4.64698   , 4.70702   , 4.81776   , 4.88281   ,\n",
       "       4.91706   , 5.23928   , 5.41276   , 5.41949   , 5.43904   ,\n",
       "       5.44223   , 5.47697   , 5.90095   , 5.98741   , 6.06034   ])"
      ]
     },
     "execution_count": 33,
     "metadata": {},
     "output_type": "execute_result"
    }
   ],
   "source": [
    "in_dir_data"
   ]
  },
  {
   "cell_type": "code",
   "execution_count": 32,
   "metadata": {},
   "outputs": [
    {
     "ename": "TypeError",
     "evalue": "'numpy.ndarray' object is not callable",
     "output_type": "error",
     "traceback": [
      "\u001b[1;31m---------------------------------------------------------------------------\u001b[0m",
      "\u001b[1;31mTypeError\u001b[0m                                 Traceback (most recent call last)",
      "Cell \u001b[1;32mIn[32], line 1\u001b[0m\n\u001b[1;32m----> 1\u001b[0m filtered_data \u001b[38;5;241m=\u001b[39m \u001b[43mfilter_data\u001b[49m\u001b[43m(\u001b[49m\u001b[43mdata\u001b[49m\u001b[43m,\u001b[49m\u001b[43min_dir_data\u001b[49m\u001b[43m[\u001b[49m\u001b[38;5;241;43m0\u001b[39;49m\u001b[43m]\u001b[49m\u001b[43m)\u001b[49m\n\u001b[0;32m      2\u001b[0m filtered_data\n",
      "\u001b[1;31mTypeError\u001b[0m: 'numpy.ndarray' object is not callable"
     ]
    }
   ],
   "source": [
    "filtered_data = filter_data(data,in_dir_data[0])\n",
    "filtered_data"
   ]
  },
  {
   "cell_type": "code",
   "execution_count": 18,
   "metadata": {},
   "outputs": [],
   "source": [
    "filename = '../datasets/samples/saved_rays.txt'  # 替换为你的数据文件路径\n",
    "\n",
    "# 读取数据并筛选\n",
    "data = load_data(filename)\n",
    "\n",
    "in_dir_data = np.unique(data[:,0])\n",
    "\n",
    "for k,in_dir_value in enumerate(in_dir_data):\n",
    "    filtered_data = filter_data(data,in_dir_value)\n",
    "\n",
    "    # 生成热力图数据\n",
    "    heatmap, out_pos_resolution, out_dir_resolution = create_heatmap(filtered_data)\n",
    "\n",
    "    # 绘制热力图\n",
    "    plot_heatmap(heatmap, out_pos_resolution, out_dir_resolution)\n",
    "\n",
    "    # 保存热力图到文件\n",
    "    output_file = f'img/heatmap_{k}.png'  # 设置文件名\n",
    "    \n",
    "    plt.savefig(output_file, dpi=300, bbox_inches='tight')  # dpi控制图像分辨率，bbox_inches避免图像裁剪\n",
    "    plt.close()  # 关闭当前图像窗口，防止图像重叠"
   ]
  },
  {
   "cell_type": "code",
   "execution_count": 19,
   "metadata": {},
   "outputs": [],
   "source": [
    "# filename = '../datasets/samples/saved_rays_txt.txt'  # 替换为你的数据文件路径\n",
    "\n",
    "# # 读取数据并筛选\n",
    "# data1 = load_data(filename)\n",
    "\n",
    "# filtered_data1 = filter_data(data1)\n",
    "\n",
    "# # 生成热力图数据\n",
    "# heatmap1, out_pos_resolution, out_dir_resolution = create_heatmap(filtered_data1)\n",
    "\n",
    "# # 绘制热力图\n",
    "# plot_heatmap(heatmap1, out_pos_resolution, out_dir_resolution)\n"
   ]
  },
  {
   "cell_type": "code",
   "execution_count": 20,
   "metadata": {},
   "outputs": [],
   "source": [
    "# filename = '../datasets/samples/saved_rays_json.txt'  # 替换为你的数据文件路径\n",
    "# # 读取数据并筛选\n",
    "# data2 = load_data(filename)\n",
    "\n",
    "# filtered_data2 = filter_data(data2)\n",
    "\n",
    "# # 生成热力图数据\n",
    "# heatmap2, out_pos_resolution, out_dir_resolution = create_heatmap(filtered_data2)\n",
    "\n",
    "# # 绘制热力图\n",
    "# plot_heatmap(heatmap2, out_pos_resolution, out_dir_resolution)\n"
   ]
  },
  {
   "cell_type": "code",
   "execution_count": 21,
   "metadata": {},
   "outputs": [],
   "source": [
    "# plot_heatmap(abs(heatmap1-heatmap2), out_pos_resolution, out_dir_resolution)\n",
    "# print(np.sum(abs(heatmap1-heatmap2)))\n"
   ]
  },
  {
   "cell_type": "code",
   "execution_count": 22,
   "metadata": {},
   "outputs": [],
   "source": [
    "# heatmap1[heatmap1 == np.max(heatmap1)] = 0\n",
    "# plot_heatmap(heatmap1, out_pos_resolution, out_dir_resolution)"
   ]
  },
  {
   "cell_type": "code",
   "execution_count": 23,
   "metadata": {},
   "outputs": [],
   "source": [
    "# heatmap2[heatmap2 == np.max(heatmap2)] = 0\n",
    "# plot_heatmap(heatmap2, out_pos_resolution, out_dir_resolution)\n"
   ]
  },
  {
   "cell_type": "code",
   "execution_count": 24,
   "metadata": {},
   "outputs": [],
   "source": [
    "# plot_heatmap(abs(heatmap1-heatmap2), out_pos_resolution, out_dir_resolution)\n"
   ]
  }
 ],
 "metadata": {
  "kernelspec": {
   "display_name": "gegnn",
   "language": "python",
   "name": "python3"
  },
  "language_info": {
   "codemirror_mode": {
    "name": "ipython",
    "version": 3
   },
   "file_extension": ".py",
   "mimetype": "text/x-python",
   "name": "python",
   "nbconvert_exporter": "python",
   "pygments_lexer": "ipython3",
   "version": "3.10.14"
  }
 },
 "nbformat": 4,
 "nbformat_minor": 2
}
