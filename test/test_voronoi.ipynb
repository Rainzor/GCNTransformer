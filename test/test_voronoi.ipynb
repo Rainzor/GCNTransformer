{
 "cells": [
  {
   "cell_type": "code",
   "execution_count": 67,
   "metadata": {},
   "outputs": [],
   "source": [
    "from foronoi import Voronoi, Polygon, Visualizer, VoronoiObserver\n",
    "from foronoi.graph import HalfEdge, Vertex\n",
    "from typing import List, Dict\n",
    "import numpy as np\n",
    "import sys\n",
    "import json\n",
    "\n",
    "num_points = 10\n",
    "num_points_boundary = 10\n",
    "\n",
    "np.random.seed(0)\n",
    "\n",
    "# 生成随机角度\n",
    "angles = 2 * np.pi * np.random.rand(num_points)\n",
    "\n",
    "# 生成均匀分布的半径，使用平方根方法以确保均匀分布在圆内\n",
    "radii = np.sqrt(np.random.rand(num_points))\n",
    "\n",
    "# 计算点的坐标\n",
    "x = radii * np.cos(angles)\n",
    "y = radii * np.sin(angles)\n",
    "\n",
    "# Define some points (a.k.a sites or cell points)\n",
    "points = list(zip(x, y))\n",
    "\n",
    "\n",
    "\n",
    "# 生成均匀分布的角度\n",
    "angles_boundary = np.linspace(0, 2 * np.pi, num_points_boundary, endpoint=False)\n",
    "\n",
    "# 计算单位圆上点的坐标\n",
    "x = np.cos(angles_boundary)\n",
    "y = np.sin(angles_boundary)\n",
    "\n",
    "points_boundary = list(zip(x, y))\n",
    "# Define a bounding box / polygon\n",
    "polygon = Polygon(points_boundary)\n",
    "\n",
    "# Initialize the algorithm\n",
    "v = Voronoi(polygon)\n",
    "\n",
    "# Attach a Voronoi Observer that monitors and visualizes the construction of \n",
    "# the Voronoi Diagram step-by-step. See for more information \n",
    "# examples/quickstart.py or examples/observers.py.\n",
    "#v.attach_observer(VoronoiObserver())\n",
    "\n",
    "# Create the diagram\n",
    "v.create_diagram(points=points)\n",
    "\n",
    "# Get properties. See more examples in examples/quickstart.py\n",
    "edges = v.edges\n",
    "vertices = v.vertices\n",
    "arcs = v.arcs\n",
    "# Plotting\n",
    "# Note: plot_border_to_site() indicates with dashed line to which site a border \n",
    "# belongs. The site's first edge is colored green.\n"
   ]
  },
  {
   "cell_type": "code",
   "execution_count": 68,
   "metadata": {},
   "outputs": [],
   "source": [
    "Visualizer(v, canvas_offset=1).plot_edges(show_labels=False)\n",
    "\n",
    "# print(len(edges))"
   ]
  },
  {
   "cell_type": "code",
   "execution_count": 69,
   "metadata": {},
   "outputs": [],
   "source": [
    "sites=v.sites\n",
    "\n",
    "with open('..//datasets//voronoi//voronoi_data_for_training.txt', 'w') as file:\n",
    "    for i in range(len(sites)):\n",
    "        file.write(f\"f{i} \")\n",
    "        file.write(f\"{sites[i].xy}\\n\")\n",
    "        adj_edges=sites[i].borders()\n",
    "        for j in range(len(adj_edges)):\n",
    "            file.write(f\"e{adj_edges[j].origin.xy}\")\n",
    "            file.write(f\"{adj_edges[j].target.xy}\\n\")\n"
   ]
  },
  {
   "cell_type": "code",
   "execution_count": 70,
   "metadata": {},
   "outputs": [],
   "source": [
    "def extract_edges_data(sites, edge_indices: Dict,site_indices: Dict) -> List[Dict]:\n",
    "    edges_data = []\n",
    "    for site in sites:\n",
    "        for edge in site.borders():\n",
    "            edge_info = {\n",
    "                'index': edge_indices[edge],  # 从外部字典获取索引\n",
    "                'origin': edge.origin.xy,\n",
    "                'target': edge.target.xy,\n",
    "                'twin': edge_indices.get(edge.twin,-1),\n",
    "                'next': edge_indices[edge.next],\n",
    "                'prev': edge_indices[edge.prev],\n",
    "                'site': site_indices[site]\n",
    "            }\n",
    "            edges_data.append(edge_info)\n",
    "    return edges_data\n",
    "\n",
    "def extract_sites_data(sites, site_indices: Dict, edge_indices: Dict,vertex_indices: Dict) -> List[Dict]:\n",
    "    sites_data = []\n",
    "    for site in sites:\n",
    "        site_info = {\n",
    "            'index': site_indices[site],  # 从外部字典获取索引\n",
    "            'xy': [site.x,site.y],\n",
    "            'borders': [edge_indices[border] for border in site.borders()],  # 使用边的index\n",
    "            'vertices': [vertex_indices[vertex] for vertex in site.vertices()],\n",
    "            'first_edge': edge_indices[site.first_edge]\n",
    "        }\n",
    "        sites_data.append(site_info)\n",
    "    return sites_data\n",
    "\n",
    "def extract_vertices_data(vertex_indices: Dict, edge_indices: Dict) -> List[Dict]:\n",
    "    vertices_data = []\n",
    "    for vertex,vertex_idx in vertex_indices.items():\n",
    "        vertex_info = {\n",
    "            'index': vertex_idx,  # 从外部字典获取索引\n",
    "            'xy': [vertex.x,vertex.y],\n",
    "            # 'edges':[edge_indices[edge] if edge in edge_indices else edge_indices[edge.twin] for edge in vertex.connected_edges]\n",
    "            'edges':[edge_indices[edge] for edge in vertex.connected_edges]\n",
    "\n",
    "        }\n",
    "        vertices_data.append(vertex_info)\n",
    "    return vertices_data\n",
    "\n",
    "# 生成Voronoi结构数据集\n",
    "def generate_voronoi_dataset(v):\n",
    "    # 为 edges, vertices 和 sites 创建索引映射\n",
    "    edge_indices = {}\n",
    "    site_indices = {}\n",
    "    edge_idx = 0\n",
    "    vertex_idx = 0\n",
    "    vertex_indices={}\n",
    "    for idx,site in enumerate(v.sites):\n",
    "        site_indices[site] = idx\n",
    "        for j,edge in enumerate(site.borders()):\n",
    "            edge_indices[edge] =  edge_idx+j\n",
    "\n",
    "        for vertex in site.vertices():\n",
    "            if vertex not in vertex_indices:\n",
    "                vertex_indices[vertex]=vertex_idx\n",
    "                vertex_idx=vertex_idx+1\n",
    "        edge_idx = edge_idx + len(site.borders())\n",
    "\n",
    "    edges_data = extract_edges_data(v.sites, edge_indices,site_indices)\n",
    "    sites_data = extract_sites_data(v.sites, site_indices, edge_indices,vertex_indices)\n",
    "    vertex_data=extract_vertices_data(vertex_indices,edge_indices)\n",
    "\n",
    "    voronoi_dataset = {\n",
    "        'edges': edges_data,\n",
    "        'sites': sites_data,\n",
    "        'vertices': vertex_data\n",
    "    }\n",
    "\n",
    "    return voronoi_dataset\n",
    "\n",
    "# 将数据集保存为json文件\n",
    "def save_voronoi_to_json(voronoi_data, filename=\"voronoi_data.json\"):\n",
    "    with open(filename, 'w') as f:\n",
    "        json.dump(voronoi_data, f, indent=4)\n"
   ]
  },
  {
   "cell_type": "code",
   "execution_count": 71,
   "metadata": {},
   "outputs": [],
   "source": [
    "edge_indices = {}\n",
    "site_indices = {}\n",
    "edge_idx = 0\n",
    "vertex_idx = 0\n",
    "vertex_indices={}\n",
    "for idx,site in enumerate(v.sites):\n",
    "    site_indices[site] = idx\n",
    "    for j,edge in enumerate(site.borders()):\n",
    "        edge_indices[edge] =  edge_idx+j\n",
    "    for vertex in site.vertices():\n",
    "        if vertex not in vertex_indices:\n",
    "            vertex_indices[vertex]=vertex_idx\n",
    "            vertex_idx=vertex_idx+1\n",
    "    edge_idx = edge_idx + len(site.borders())\n",
    "\n",
    "\n",
    "def extract_vertices_data_test(vertex_indices: Dict, edge_indices: Dict) -> List[Dict]:\n",
    "    vertices_data = []\n",
    "    error_vertex=[]\n",
    "    for vertex,vertex_idx in vertex_indices.items():\n",
    "        try:\n",
    "            vertex_info = {\n",
    "                'index': vertex_idx,  # 从外部字典获取索引\n",
    "                'xy': [vertex.x,vertex.y],\n",
    "                # 'edges':[edge_indices[edge] if edge in edge_indices else edge_indices[edge.twin] for edge in vertex.connected_edges]\n",
    "                'edges':[edge_indices[edge] for edge in vertex.connected_edges]\n",
    "\n",
    "            }\n",
    "            vertices_data.append(vertex_info)\n",
    "        except KeyError:\n",
    "            error_vertex.append(vertex)\n",
    "    return vertices_data, error_vertex\n",
    "\n",
    "vertex_data,error_vertex=extract_vertices_data_test(vertex_indices,edge_indices)\n",
    "\n",
    "\n"
   ]
  },
  {
   "cell_type": "code",
   "execution_count": 72,
   "metadata": {},
   "outputs": [
    {
     "name": "stdout",
     "output_type": "stream",
     "text": [
      "(-0.8871220773075352, -0.34740252438113983) (-0.8805904719605225, 0.1965162225611616)\n",
      "(-0.8871220773075352, -0.34740252438113983) (-0.8350773461503205, -0.5075797366604116)\n",
      "(-0.8871220773075352, -0.34740252438113983) (-1.0, 1.2246467991473532e-16)\n"
     ]
    }
   ],
   "source": [
    "error_edge = error_vertex[1].connected_edges\n",
    "for edge in error_edge:\n",
    "    print(edge.origin.xy,edge.target.xy)"
   ]
  },
  {
   "cell_type": "code",
   "execution_count": 77,
   "metadata": {},
   "outputs": [
    {
     "data": {
      "image/png": "[encoded data removed]",
      "text/plain": [
       "<Figure size 640x480 with 1 Axes>"
      ]
     },
     "metadata": {},
     "output_type": "display_data"
    },
    {
     "name": "stdout",
     "output_type": "stream",
     "text": [
      "19\n"
     ]
    }
   ],
   "source": [
    "from matplotlib import pyplot as plt\n",
    "\n",
    "plt.figure()\n",
    "for vertex in error_vertex:\n",
    "    for edge in vertex.connected_edges:\n",
    "        plt.plot([edge.origin.x,edge.target.x],[edge.origin.y,edge.target.y],color='r')\n",
    "    plt.plot(vertex.x,vertex.y,'bo')\n",
    "plt.show()  \n",
    "print(len(error_vertex))"
   ]
  },
  {
   "cell_type": "code",
   "execution_count": 74,
   "metadata": {},
   "outputs": [
    {
     "ename": "KeyError",
     "evalue": "None/P7",
     "output_type": "error",
     "traceback": [
      "\u001b[1;31m---------------------------------------------------------------------------\u001b[0m",
      "\u001b[1;31mKeyError\u001b[0m                                  Traceback (most recent call last)",
      "Cell \u001b[1;32mIn[74], line 2\u001b[0m\n\u001b[0;32m      1\u001b[0m \u001b[38;5;66;03m# 生成并保存Voronoi数据集\u001b[39;00m\n\u001b[1;32m----> 2\u001b[0m voronoi_data \u001b[38;5;241m=\u001b[39m \u001b[43mgenerate_voronoi_dataset\u001b[49m\u001b[43m(\u001b[49m\u001b[43mv\u001b[49m\u001b[43m)\u001b[49m\n",
      "Cell \u001b[1;32mIn[70], line 64\u001b[0m, in \u001b[0;36mgenerate_voronoi_dataset\u001b[1;34m(v)\u001b[0m\n\u001b[0;32m     62\u001b[0m edges_data \u001b[38;5;241m=\u001b[39m extract_edges_data(v\u001b[38;5;241m.\u001b[39msites, edge_indices,site_indices)\n\u001b[0;32m     63\u001b[0m sites_data \u001b[38;5;241m=\u001b[39m extract_sites_data(v\u001b[38;5;241m.\u001b[39msites, site_indices, edge_indices,vertex_indices)\n\u001b[1;32m---> 64\u001b[0m vertex_data\u001b[38;5;241m=\u001b[39m\u001b[43mextract_vertices_data\u001b[49m\u001b[43m(\u001b[49m\u001b[43mvertex_indices\u001b[49m\u001b[43m,\u001b[49m\u001b[43medge_indices\u001b[49m\u001b[43m)\u001b[49m\n\u001b[0;32m     66\u001b[0m voronoi_dataset \u001b[38;5;241m=\u001b[39m {\n\u001b[0;32m     67\u001b[0m     \u001b[38;5;124m'\u001b[39m\u001b[38;5;124medges\u001b[39m\u001b[38;5;124m'\u001b[39m: edges_data,\n\u001b[0;32m     68\u001b[0m     \u001b[38;5;124m'\u001b[39m\u001b[38;5;124msites\u001b[39m\u001b[38;5;124m'\u001b[39m: sites_data,\n\u001b[0;32m     69\u001b[0m     \u001b[38;5;124m'\u001b[39m\u001b[38;5;124mvertices\u001b[39m\u001b[38;5;124m'\u001b[39m: vertex_data\n\u001b[0;32m     70\u001b[0m }\n\u001b[0;32m     72\u001b[0m \u001b[38;5;28;01mreturn\u001b[39;00m voronoi_dataset\n",
      "Cell \u001b[1;32mIn[70], line 37\u001b[0m, in \u001b[0;36mextract_vertices_data\u001b[1;34m(vertex_indices, edge_indices)\u001b[0m\n\u001b[0;32m     31\u001b[0m vertices_data \u001b[38;5;241m=\u001b[39m []\n\u001b[0;32m     32\u001b[0m \u001b[38;5;28;01mfor\u001b[39;00m vertex,vertex_idx \u001b[38;5;129;01min\u001b[39;00m vertex_indices\u001b[38;5;241m.\u001b[39mitems():\n\u001b[0;32m     33\u001b[0m     vertex_info \u001b[38;5;241m=\u001b[39m {\n\u001b[0;32m     34\u001b[0m         \u001b[38;5;124m'\u001b[39m\u001b[38;5;124mindex\u001b[39m\u001b[38;5;124m'\u001b[39m: vertex_idx,  \u001b[38;5;66;03m# 从外部字典获取索引\u001b[39;00m\n\u001b[0;32m     35\u001b[0m         \u001b[38;5;124m'\u001b[39m\u001b[38;5;124mxy\u001b[39m\u001b[38;5;124m'\u001b[39m: [vertex\u001b[38;5;241m.\u001b[39mx,vertex\u001b[38;5;241m.\u001b[39my],\n\u001b[0;32m     36\u001b[0m         \u001b[38;5;66;03m# 'edges':[edge_indices[edge] if edge in edge_indices else edge_indices[edge.twin] for edge in vertex.connected_edges]\u001b[39;00m\n\u001b[1;32m---> 37\u001b[0m         \u001b[38;5;124m'\u001b[39m\u001b[38;5;124medges\u001b[39m\u001b[38;5;124m'\u001b[39m:[edge_indices[edge] \u001b[38;5;28;01mfor\u001b[39;00m edge \u001b[38;5;129;01min\u001b[39;00m vertex\u001b[38;5;241m.\u001b[39mconnected_edges]\n\u001b[0;32m     38\u001b[0m \n\u001b[0;32m     39\u001b[0m     }\n\u001b[0;32m     40\u001b[0m     vertices_data\u001b[38;5;241m.\u001b[39mappend(vertex_info)\n\u001b[0;32m     41\u001b[0m \u001b[38;5;28;01mreturn\u001b[39;00m vertices_data\n",
      "Cell \u001b[1;32mIn[70], line 37\u001b[0m, in \u001b[0;36m<listcomp>\u001b[1;34m(.0)\u001b[0m\n\u001b[0;32m     31\u001b[0m vertices_data \u001b[38;5;241m=\u001b[39m []\n\u001b[0;32m     32\u001b[0m \u001b[38;5;28;01mfor\u001b[39;00m vertex,vertex_idx \u001b[38;5;129;01min\u001b[39;00m vertex_indices\u001b[38;5;241m.\u001b[39mitems():\n\u001b[0;32m     33\u001b[0m     vertex_info \u001b[38;5;241m=\u001b[39m {\n\u001b[0;32m     34\u001b[0m         \u001b[38;5;124m'\u001b[39m\u001b[38;5;124mindex\u001b[39m\u001b[38;5;124m'\u001b[39m: vertex_idx,  \u001b[38;5;66;03m# 从外部字典获取索引\u001b[39;00m\n\u001b[0;32m     35\u001b[0m         \u001b[38;5;124m'\u001b[39m\u001b[38;5;124mxy\u001b[39m\u001b[38;5;124m'\u001b[39m: [vertex\u001b[38;5;241m.\u001b[39mx,vertex\u001b[38;5;241m.\u001b[39my],\n\u001b[0;32m     36\u001b[0m         \u001b[38;5;66;03m# 'edges':[edge_indices[edge] if edge in edge_indices else edge_indices[edge.twin] for edge in vertex.connected_edges]\u001b[39;00m\n\u001b[1;32m---> 37\u001b[0m         \u001b[38;5;124m'\u001b[39m\u001b[38;5;124medges\u001b[39m\u001b[38;5;124m'\u001b[39m:[\u001b[43medge_indices\u001b[49m\u001b[43m[\u001b[49m\u001b[43medge\u001b[49m\u001b[43m]\u001b[49m \u001b[38;5;28;01mfor\u001b[39;00m edge \u001b[38;5;129;01min\u001b[39;00m vertex\u001b[38;5;241m.\u001b[39mconnected_edges]\n\u001b[0;32m     38\u001b[0m \n\u001b[0;32m     39\u001b[0m     }\n\u001b[0;32m     40\u001b[0m     vertices_data\u001b[38;5;241m.\u001b[39mappend(vertex_info)\n\u001b[0;32m     41\u001b[0m \u001b[38;5;28;01mreturn\u001b[39;00m vertices_data\n",
      "\u001b[1;31mKeyError\u001b[0m: None/P7"
     ]
    }
   ],
   "source": [
    "# 生成并保存Voronoi数据集\n",
    "voronoi_data = generate_voronoi_dataset(v)\n"
   ]
  },
  {
   "cell_type": "code",
   "execution_count": 22,
   "metadata": {},
   "outputs": [
    {
     "name": "stdout",
     "output_type": "stream",
     "text": [
      "Voronoi data has been saved to 'voronoi_data.json'\n"
     ]
    }
   ],
   "source": [
    "save_voronoi_to_json(voronoi_data, \"..//datasets//voronoi//voronoi_data.json\")\n",
    "\n",
    "print(f\"Voronoi data has been saved to 'voronoi_data.json'\")"
   ]
  }
 ],
 "metadata": {
  "kernelspec": {
   "display_name": "pegnn",
   "language": "python",
   "name": "python3"
  },
  "language_info": {
   "codemirror_mode": {
    "name": "ipython",
    "version": 3
   },
   "file_extension": ".py",
   "mimetype": "text/x-python",
   "name": "python",
   "nbconvert_exporter": "python",
   "pygments_lexer": "ipython3",
   "version": "3.10.14"
  }
 },
 "nbformat": 4,
 "nbformat_minor": 2
}
